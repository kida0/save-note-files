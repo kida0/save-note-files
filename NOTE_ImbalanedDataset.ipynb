{
  "nbformat": 4,
  "nbformat_minor": 0,
  "metadata": {
    "colab": {
      "provenance": [],
      "authorship_tag": "ABX9TyNV8JSYQwT7ct8fppgHf8Kl",
      "include_colab_link": true
    },
    "kernelspec": {
      "name": "python3",
      "display_name": "Python 3"
    },
    "language_info": {
      "name": "python"
    }
  },
  "cells": [
    {
      "cell_type": "markdown",
      "metadata": {
        "id": "view-in-github",
        "colab_type": "text"
      },
      "source": [
        "<a href=\"https://colab.research.google.com/github/kida0/save-note-files/blob/main/NOTE_ImbalanedDataset.ipynb\" target=\"_parent\"><img src=\"https://colab.research.google.com/assets/colab-badge.svg\" alt=\"Open In Colab\"/></a>"
      ]
    },
    {
      "cell_type": "code",
      "execution_count": null,
      "metadata": {
        "id": "jfB0d1nroZ4P"
      },
      "outputs": [],
      "source": [
        "import pandas as pd\n",
        "import numpy as np\n",
        "import pathlib"
      ]
    },
    {
      "cell_type": "code",
      "source": [
        "import imblearn\n",
        "import collections"
      ],
      "metadata": {
        "id": "XwREJoYaqPxs"
      },
      "execution_count": null,
      "outputs": []
    },
    {
      "cell_type": "code",
      "source": [
        "data = pd.read_csv('/content/train.csv')\n",
        "data.shape"
      ],
      "metadata": {
        "colab": {
          "base_uri": "https://localhost:8080/"
        },
        "id": "oVoI0EZqpOOr",
        "outputId": "39117c35-959a-48f3-b12f-476a9e18a639"
      },
      "execution_count": null,
      "outputs": [
        {
          "output_type": "execute_result",
          "data": {
            "text/plain": [
              "(14095, 54)"
            ]
          },
          "metadata": {},
          "execution_count": 13
        }
      ]
    },
    {
      "cell_type": "code",
      "source": [
        "data = data.dropna(axis=1)\n",
        "data = data.iloc[:, 5:]\n",
        "data.shape"
      ],
      "metadata": {
        "colab": {
          "base_uri": "https://localhost:8080/"
        },
        "id": "GJLSNBLlpkPi",
        "outputId": "bf99f8c5-9d85-47a7-ae25-e73415999c1c"
      },
      "execution_count": null,
      "outputs": [
        {
          "output_type": "execute_result",
          "data": {
            "text/plain": [
              "(14095, 30)"
            ]
          },
          "metadata": {},
          "execution_count": 14
        }
      ]
    },
    {
      "cell_type": "code",
      "source": [
        "data.Y_LABEL.value_counts(normalize=True)"
      ],
      "metadata": {
        "colab": {
          "base_uri": "https://localhost:8080/"
        },
        "id": "ui3C5lJPp53w",
        "outputId": "11964726-d363-4fbb-f4bb-aed265abcb6c"
      },
      "execution_count": null,
      "outputs": [
        {
          "output_type": "execute_result",
          "data": {
            "text/plain": [
              "0    0.914651\n",
              "1    0.085349\n",
              "Name: Y_LABEL, dtype: float64"
            ]
          },
          "metadata": {},
          "execution_count": 16
        }
      ]
    },
    {
      "cell_type": "code",
      "source": [
        "X = data.drop('Y_LABEL', axis=1)\n",
        "y = data['Y_LABEL']"
      ],
      "metadata": {
        "id": "F5ifhV5bqhXX"
      },
      "execution_count": null,
      "outputs": []
    },
    {
      "cell_type": "markdown",
      "source": [
        "# __Over-sampling__"
      ],
      "metadata": {
        "id": "V8ciKN04qS9o"
      }
    },
    {
      "cell_type": "markdown",
      "source": [
        "## __Naive random over-sampling__"
      ],
      "metadata": {
        "id": "_ghON62xr9K-"
      }
    },
    {
      "cell_type": "code",
      "source": [
        "print('Sampling 이전 데이터 크기:', X.shape, y.shape)\n",
        "print('Sampling 이전 y 비율:\\n', y.value_counts())"
      ],
      "metadata": {
        "colab": {
          "base_uri": "https://localhost:8080/"
        },
        "id": "ZffRhol7q6sP",
        "outputId": "c5db1d8f-f61f-4885-dcbb-f2de4a2f5b42"
      },
      "execution_count": null,
      "outputs": [
        {
          "output_type": "stream",
          "name": "stdout",
          "text": [
            "Sampling 이전 데이터 크기: (14095, 29) (14095,)\n",
            "Sampling 이전 y 비율:\n",
            " 0    12892\n",
            "1     1203\n",
            "Name: Y_LABEL, dtype: int64\n"
          ]
        }
      ]
    },
    {
      "cell_type": "code",
      "source": [
        "iit = imblearn.over_sampling.RandomOverSampler(random_state=0)\n",
        "X_resampled, y_resampled = iit.fit_resample(X, y)\n",
        "print('Sampling 이후 데이터 크기', X_resampled.shape, y_resampled.shape)"
      ],
      "metadata": {
        "colab": {
          "base_uri": "https://localhost:8080/"
        },
        "id": "jPpUpXgnqUR4",
        "outputId": "8d0224c6-9a92-49bc-c324-dc08f9b8d14b"
      },
      "execution_count": null,
      "outputs": [
        {
          "output_type": "stream",
          "name": "stdout",
          "text": [
            "Sampling 이후 데이터 크기 (25784, 29) (25784,)\n"
          ]
        }
      ]
    },
    {
      "cell_type": "code",
      "source": [
        "print(sorted(collections.Counter(y_resampled).items()))"
      ],
      "metadata": {
        "colab": {
          "base_uri": "https://localhost:8080/"
        },
        "id": "wjZ8GQF-p9nv",
        "outputId": "6d4e4fd8-623e-45b3-da34-75e296a92032"
      },
      "execution_count": null,
      "outputs": [
        {
          "output_type": "stream",
          "name": "stdout",
          "text": [
            "[(0, 12892), (1, 12892)]\n"
          ]
        }
      ]
    },
    {
      "cell_type": "markdown",
      "source": [
        "## __SMOTE__\n",
        "1. 소수범주 데이터 하나 무작위 선택 ($x$)\n",
        "2. $x$를 기준으로 KNN\n",
        "3. KNN에 속하는 값 선택 ($x_{NN}$)\n",
        "4. $x_{synthetic} = x + \\mu*(x_{NN} - x)$\n",
        "5. 소수범주 데이터에 대해 1.~4. 반복"
      ],
      "metadata": {
        "id": "nvp11Mf0sG3A"
      }
    },
    {
      "cell_type": "code",
      "source": [
        "X_resampled, y_resampled = imblearn.over_sampling.SMOTE(\n",
        "    k_neighbors = 5,\n",
        ").fit_resample(X, y)\n",
        "print(sorted(collections.Counter(y_resampled).items()))"
      ],
      "metadata": {
        "colab": {
          "base_uri": "https://localhost:8080/"
        },
        "id": "G5-wSufwrt7N",
        "outputId": "490eea28-1399-4abd-9158-910a1b424448"
      },
      "execution_count": null,
      "outputs": [
        {
          "output_type": "stream",
          "name": "stdout",
          "text": [
            "[(0, 12892), (1, 12892)]\n"
          ]
        }
      ]
    },
    {
      "cell_type": "markdown",
      "source": [
        "## __BorderlineSMOTE, SVMSMOTE, KMeansSMOTE__\n",
        "- Borderline의 경우 SMOTE의 2. 과정에서 K개 중 다수 클래스의 수($m$)를 고려하여 Borderline에 대해서만 SMOTE 수행\n",
        "    1. $k = m$ → 전부 다수클래스로 borderline이 아님\n",
        "    2. $k/2 < m \\leq k$ → 절반 이상이 다수 클래스로 borderline에 속함\n",
        "    3. $0 \\leq m \\leq k/2$ → borderline이 아님\n",
        "\n",
        "- SVMSMOTE는 KNN대신 SVM 이용\n"
      ],
      "metadata": {
        "id": "z_UnhNT4tTys"
      }
    },
    {
      "cell_type": "code",
      "source": [
        "X_resampled, y_resampled = imblearn.over_sampling.BorderlineSMOTE(\n",
        "    k_neighbors = 5,\n",
        "    m_neighbors = 10,\n",
        ").fit_resample(X, y)\n",
        "print(sorted(collections.Counter(y_resampled).items()))"
      ],
      "metadata": {
        "colab": {
          "base_uri": "https://localhost:8080/"
        },
        "id": "PsN5sdvzszNZ",
        "outputId": "cec74025-5ebf-4ff2-e6f6-6501428a50d8"
      },
      "execution_count": null,
      "outputs": [
        {
          "output_type": "stream",
          "name": "stdout",
          "text": [
            "[(0, 12892), (1, 12892)]\n"
          ]
        }
      ]
    },
    {
      "cell_type": "code",
      "source": [
        "X_resampled, y_resampled = imblearn.over_sampling.SVMSMOTE().fit_resample(X, y)\n",
        "print(sorted(collections.Counter(y_resampled).items()))"
      ],
      "metadata": {
        "colab": {
          "base_uri": "https://localhost:8080/"
        },
        "id": "uF264mhatP2s",
        "outputId": "c8a61cee-4a05-4660-9de8-e077818c92c9"
      },
      "execution_count": null,
      "outputs": [
        {
          "output_type": "stream",
          "name": "stdout",
          "text": [
            "[(0, 12892), (1, 12892)]\n"
          ]
        }
      ]
    },
    {
      "cell_type": "code",
      "source": [
        "# X_resampled, y_resampled = imblearn.over_sampling.KMeansSMOTE().fit_resample(X, y)\n",
        "# print(sorted(collections.Counter(y_resampled).items()))"
      ],
      "metadata": {
        "id": "KgjKgoVntg_z"
      },
      "execution_count": null,
      "outputs": []
    },
    {
      "cell_type": "markdown",
      "source": [
        "## __ADASYN__\n",
        "- BorderlineSMOTE와 비슷\n",
        "    1. 다수범주의 비율 $r_i = m_k / k$, i번째 소수범주 $x_i$\n",
        "    2. 1.을 모든 i에 대해 계산 후 합이 1이 되도록 정규화 = $\\hat{r_i}$\n",
        "    3. G = #다수 - #소수\n",
        "    4. i를 기준으로 오버샘플링 할 갯수 = G * $\\hat{r_i}$\n"
      ],
      "metadata": {
        "id": "gKP_F6_pNPa0"
      }
    },
    {
      "cell_type": "code",
      "source": [
        "X_resampled, y_resampled = imblearn.over_sampling.ADASYN().fit_resample(X, y)\n",
        "print(sorted(collections.Counter(y_resampled).items()))"
      ],
      "metadata": {
        "colab": {
          "base_uri": "https://localhost:8080/"
        },
        "id": "zkZQHTL4sWEl",
        "outputId": "b7ccd6e8-6e3d-48a3-e204-ef5141d57a1c"
      },
      "execution_count": null,
      "outputs": [
        {
          "output_type": "stream",
          "name": "stdout",
          "text": [
            "[(0, 12892), (1, 13027)]\n"
          ]
        }
      ]
    },
    {
      "cell_type": "markdown",
      "source": [
        "## __SMOTENC__\n",
        "- mixture of numerical and categorical"
      ],
      "metadata": {
        "id": "cbEnu1a4t3CK"
      }
    },
    {
      "cell_type": "code",
      "source": [
        "smote_nc = imblearn.over_sampling.SMOTENC(categorical_features=[0])\n",
        "X_resampled, y_resampled = smote_nc.fit_resample(X, y)\n",
        "print(sorted(collections.Counter(y_resampled).items()))"
      ],
      "metadata": {
        "colab": {
          "base_uri": "https://localhost:8080/"
        },
        "id": "lZVR8-sctrLk",
        "outputId": "d945f316-1f75-44e1-979b-60fff0d39c1e"
      },
      "execution_count": null,
      "outputs": [
        {
          "output_type": "stream",
          "name": "stdout",
          "text": [
            "[(0, 12892), (1, 12892)]\n"
          ]
        }
      ]
    },
    {
      "cell_type": "markdown",
      "source": [
        "## __SMOTE variant__\n",
        "* only with categorical"
      ],
      "metadata": {
        "id": "8Opri9RKumlK"
      }
    },
    {
      "cell_type": "code",
      "source": [
        "sampler = imblearn.over_sampling.SMOTE()\n",
        "X_resampled, y_res = sampler.fit_resample(X, y)"
      ],
      "metadata": {
        "id": "Ss0-6oS8uq-S"
      },
      "execution_count": null,
      "outputs": []
    },
    {
      "cell_type": "code",
      "source": [
        "data.ANONYMOUS_2.value_counts()"
      ],
      "metadata": {
        "colab": {
          "base_uri": "https://localhost:8080/"
        },
        "id": "nD1PeEpouDm1",
        "outputId": "180a605f-1925-4b2f-84ae-fedccee5cb15"
      },
      "execution_count": null,
      "outputs": [
        {
          "output_type": "execute_result",
          "data": {
            "text/plain": [
              "200     9197\n",
              "550      723\n",
              "375      562\n",
              "900      107\n",
              "1600      72\n",
              "        ... \n",
              "1369       1\n",
              "598        1\n",
              "1301       1\n",
              "291        1\n",
              "308        1\n",
              "Name: ANONYMOUS_2, Length: 842, dtype: int64"
            ]
          },
          "metadata": {},
          "execution_count": 52
        }
      ]
    },
    {
      "cell_type": "markdown",
      "source": [
        "# __Under-sampling__"
      ],
      "metadata": {
        "id": "zpqGtXGcvaTy"
      }
    },
    {
      "cell_type": "markdown",
      "source": [
        "## __Random under-sampling__"
      ],
      "metadata": {
        "id": "I-agWDt7xEKl"
      }
    },
    {
      "cell_type": "code",
      "source": [
        "iit = imblearn.under_sampling.RandomUnderSampler()\n",
        "X_resampled, y_resampled = iit.fit_resample(X, y)\n",
        "print(sorted(collections.Counter(y_resampled).items()))"
      ],
      "metadata": {
        "colab": {
          "base_uri": "https://localhost:8080/"
        },
        "id": "TX93c3G7uFVS",
        "outputId": "e4ca0960-4fd7-4e97-ce90-c7e170181ddb"
      },
      "execution_count": null,
      "outputs": [
        {
          "output_type": "stream",
          "name": "stdout",
          "text": [
            "[(0, 1203), (1, 1203)]\n"
          ]
        }
      ]
    },
    {
      "cell_type": "markdown",
      "source": [
        "## __NearMiss__"
      ],
      "metadata": {
        "id": "ze9az-hkxIjl"
      }
    },
    {
      "cell_type": "code",
      "source": [
        "iit = imblearn.under_sampling.NearMiss()\n",
        "X_resampled, y_resampled = iit.fit_resample(X, y)\n",
        "print(sorted(collections.Counter(y_resampled).items()))"
      ],
      "metadata": {
        "colab": {
          "base_uri": "https://localhost:8080/"
        },
        "id": "dxM1zA2av2CZ",
        "outputId": "7d0af884-cdff-4200-ba73-51ea36c1c6bb"
      },
      "execution_count": null,
      "outputs": [
        {
          "output_type": "stream",
          "name": "stdout",
          "text": [
            "[(0, 1203), (1, 1203)]\n"
          ]
        }
      ]
    },
    {
      "cell_type": "markdown",
      "source": [
        "##__Tomek's links__\n",
        "- 가까운 점끼리 묶은 후 다수 범주 값 제거"
      ],
      "metadata": {
        "id": "u6GDgiLkxqs-"
      }
    },
    {
      "cell_type": "code",
      "source": [
        "iit = imblearn.under_sampling.TomekLinks()\n",
        "X_resampled, y_resampled = iit.fit_resample(X, y)\n",
        "print(sorted(collections.Counter(y_resampled).items()))"
      ],
      "metadata": {
        "colab": {
          "base_uri": "https://localhost:8080/"
        },
        "id": "xqH_Qyd3LmBc",
        "outputId": "30bc9762-0bbb-4b8f-ae59-25bf3f2b0254"
      },
      "execution_count": null,
      "outputs": [
        {
          "output_type": "stream",
          "name": "stdout",
          "text": [
            "[(0, 12501), (1, 1203)]\n"
          ]
        }
      ]
    },
    {
      "cell_type": "markdown",
      "source": [
        "## __Edited Nearset Neighbours__\n",
        "- clean the database by removing samples close to the decision boundary\n",
        "- __'mode'__: the majority vote of the neighbours will be used in order to exclude a sample (more conservative)"
      ],
      "metadata": {
        "id": "CtgSZPpSx8rL"
      }
    },
    {
      "cell_type": "code",
      "source": [
        "iit = imblearn.under_sampling.EditedNearestNeighbours(\n",
        "    n_neighbors = 3,\n",
        "    kind_sel = 'all',   # ['all', 'mode']\n",
        ")\n",
        "X_resampled, y_resampled = iit.fit_resample(X, y)\n",
        "print(sorted(collections.Counter(y_resampled).items()))"
      ],
      "metadata": {
        "colab": {
          "base_uri": "https://localhost:8080/"
        },
        "id": "Hzf4KVXixfPv",
        "outputId": "ea7fc5b9-7874-489b-bb80-e74010a82351"
      },
      "execution_count": null,
      "outputs": [
        {
          "output_type": "stream",
          "name": "stdout",
          "text": [
            "[(0, 10659), (1, 1203)]\n"
          ]
        }
      ]
    },
    {
      "cell_type": "markdown",
      "source": [
        "## __Condensed Nearest Neighbor__\n",
        "1. 다수범주에 속하는 값 선택 ($i \\in S_0$)\n",
        "2. 다수범주에 속하는 값을 선택하며 1-NN 수행 ($j \\in S_0$)\n",
        "3. 다수범주에서 소수범주로 분류된 값과 i만 남기고 나머지 샘플 제거"
      ],
      "metadata": {
        "id": "xVXEQ9RHyzyb"
      }
    },
    {
      "cell_type": "code",
      "source": [
        "iit = imblearn.under_sampling.CondensedNearestNeighbour()\n",
        "X_resampled, y_resampled = iit.fit_resample(X, y)\n",
        "print(sorted(collections.Counter(y_resampled).items()))"
      ],
      "metadata": {
        "id": "W0tKKJz7yD3e"
      },
      "execution_count": null,
      "outputs": []
    },
    {
      "cell_type": "markdown",
      "source": [
        "## __One-sided selection__\n",
        "- Tomek(경계면 값 제거) + CNN(경계면에서 먼 값 제거)\n",
        "- __n_neighbors__: size of the neighbourhood to consider to compute the nearset neighbors"
      ],
      "metadata": {
        "id": "dtZ1wDC0zY2k"
      }
    },
    {
      "cell_type": "code",
      "source": [
        "iit = imblearn.under_sampling.OneSidedSelection(\n",
        "    n_neighbors = None,     # None -> 1-NN\n",
        ")\n",
        "X_resampled, y_resampled = iit.fit_resample(X, y)\n",
        "print(sorted(collections.Counter(y_resampled).items()))"
      ],
      "metadata": {
        "colab": {
          "base_uri": "https://localhost:8080/"
        },
        "id": "iaYkrjelzBgE",
        "outputId": "64bccd17-0420-4741-b1a3-4f6c1c49e54b"
      },
      "execution_count": null,
      "outputs": [
        {
          "output_type": "stream",
          "name": "stdout",
          "text": [
            "[(0, 12486), (1, 1203)]\n"
          ]
        }
      ]
    },
    {
      "cell_type": "markdown",
      "source": [
        "## __Neighbourhood cleaning rule__"
      ],
      "metadata": {
        "id": "gA0oddiBz0lB"
      }
    },
    {
      "cell_type": "code",
      "source": [
        "iit = imblearn.under_sampling.NeighbourhoodCleaningRule()\n",
        "X_resampled, y_resampled = iit.fit_resample(X, y)\n",
        "print(sorted(collections.Counter(y_resampled).items()))"
      ],
      "metadata": {
        "colab": {
          "base_uri": "https://localhost:8080/"
        },
        "id": "Y_EweDcGz1FG",
        "outputId": "9a96442d-03b8-47a5-b207-a641fd3abac6"
      },
      "execution_count": null,
      "outputs": [
        {
          "output_type": "stream",
          "name": "stdout",
          "text": [
            "[(0, 10322), (1, 1203)]\n"
          ]
        }
      ]
    },
    {
      "cell_type": "markdown",
      "source": [
        "## __Instance hardness threshold__\n",
        "- 지정한 알고리즘을 통해 데이터를 학습 후 낮은 확률을 가진 관측치 제거"
      ],
      "metadata": {
        "id": "rloWjMOLz1XS"
      }
    },
    {
      "cell_type": "code",
      "source": [
        "from sklearn import linear_model\n",
        "iit = imblearn.under_sampling.InstanceHardnessThreshold(\n",
        "    estimator = linear_model.LogisticRegression(),\n",
        ")\n",
        "X_resampled, y_resampled = iit.fit_resample(X, y)\n",
        "print(sorted(collections.Counter(y_resampled).items()))"
      ],
      "metadata": {
        "id": "0Fc2tCnUz1xA"
      },
      "execution_count": null,
      "outputs": []
    },
    {
      "cell_type": "code",
      "source": [
        "from sklearn import linear_model\n",
        "iit = imblearn.under_sampling.InstanceHardnessThreshold()\n",
        "X_resampled, y_resampled = iit.fit_resample(X, y)\n",
        "print(sorted(collections.Counter(y_resampled).items()))"
      ],
      "metadata": {
        "colab": {
          "base_uri": "https://localhost:8080/"
        },
        "id": "AKN6Fboc4Vld",
        "outputId": "c11b2581-c28f-489a-aa7e-0b154a555258"
      },
      "execution_count": null,
      "outputs": [
        {
          "output_type": "stream",
          "name": "stdout",
          "text": [
            "[(0, 1497), (1, 1203)]\n"
          ]
        }
      ]
    },
    {
      "cell_type": "markdown",
      "source": [
        "# __Combination of over- and under- sampling__"
      ],
      "metadata": {
        "id": "wWMmDPGh02I5"
      }
    },
    {
      "cell_type": "markdown",
      "source": [
        "## __SMOTEENN__\n",
        "- Over-sampling using SMOTE and cleaning using ENN"
      ],
      "metadata": {
        "id": "wssUfumB1U8N"
      }
    },
    {
      "cell_type": "code",
      "source": [
        "iit = imblearn.combine.SMOTEENN(\n",
        "    smote = None,\n",
        "    enn = None,\n",
        ")\n",
        "X_resampled, y_resampled = iit.fit_resample(X, y)\n",
        "print(sorted(collections.Counter(y_resampled).items()))"
      ],
      "metadata": {
        "colab": {
          "base_uri": "https://localhost:8080/"
        },
        "id": "HmW74G0w04_M",
        "outputId": "40d54940-01bd-4508-d9b7-802efc8fa2d0"
      },
      "execution_count": null,
      "outputs": [
        {
          "output_type": "stream",
          "name": "stdout",
          "text": [
            "[(0, 8579), (1, 11774)]\n"
          ]
        }
      ]
    },
    {
      "cell_type": "markdown",
      "source": [
        "## __STMOETomek__\n",
        "- Over-sampling using SMOTE and cleaning using Tomek links"
      ],
      "metadata": {
        "id": "Yve0VzM0Jbok"
      }
    },
    {
      "cell_type": "code",
      "source": [
        "iit = imblearn.combine.SMOTETomek(\n",
        "    smote = None,\n",
        "    tomek = None,\n",
        ")\n",
        "X_resampled, y_resampled = iit.fit_resample(X, y)\n",
        "print(sorted(collections.Counter(y_resampled).items()))"
      ],
      "metadata": {
        "colab": {
          "base_uri": "https://localhost:8080/"
        },
        "id": "aB_tainf05Fp",
        "outputId": "fe7106a0-7dd9-470f-822a-f191a54eca3f"
      },
      "execution_count": null,
      "outputs": [
        {
          "output_type": "stream",
          "name": "stdout",
          "text": [
            "[(0, 12728), (1, 12728)]\n"
          ]
        }
      ]
    },
    {
      "cell_type": "markdown",
      "source": [
        "# __Compare time for resampling method__"
      ],
      "metadata": {
        "id": "80A81BoQ2z4D"
      }
    },
    {
      "cell_type": "code",
      "source": [
        "models = [\n",
        "    # over-sampling\n",
        "    imblearn.over_sampling.RandomOverSampler(),\n",
        "    imblearn.over_sampling.SMOTE(),\n",
        "    imblearn.over_sampling.ADASYN(),\n",
        "    imblearn.over_sampling.BorderlineSMOTE(),\n",
        "    imblearn.over_sampling.SVMSMOTE(),\n",
        "\n",
        "    # under_sampling\n",
        "    imblearn.under_sampling.RandomUnderSampler(),\n",
        "    imblearn.under_sampling.NearMiss(),\n",
        "    imblearn.under_sampling.InstanceHardnessThreshold(),\n",
        "#    imblearn.under_sampling.CondensedNearestNeighbour(),\n",
        "    imblearn.under_sampling.EditedNearestNeighbours(),\n",
        "    imblearn.under_sampling.OneSidedSelection(),\n",
        "    imblearn.under_sampling.NeighbourhoodCleaningRule(),\n",
        "    imblearn.under_sampling.TomekLinks(),\n",
        "\n",
        "    # combinations\n",
        "    imblearn.combine.SMOTEENN(),\n",
        "    imblearn.combine.SMOTETomek(),\n",
        "]"
      ],
      "metadata": {
        "id": "aMQL9Wv_22HB"
      },
      "execution_count": null,
      "outputs": []
    },
    {
      "cell_type": "code",
      "source": [
        "imb_columns = ['name', 'param', 'time', 'ratio', 'size']\n",
        "imb_df = pd.DataFrame(columns=imb_columns)"
      ],
      "metadata": {
        "id": "dRDwxoW_5A6q"
      },
      "execution_count": null,
      "outputs": []
    },
    {
      "cell_type": "code",
      "source": [
        "import time\n",
        "\n",
        "for idx, model in enumerate(models):\n",
        "    print(f'{idx}: {model} do...')\n",
        "    tic = time.time()\n",
        "    X_resampled, y_resampled = model.fit_resample(X, y)\n",
        "    toc = time.time()\n",
        "\n",
        "    imb_df.loc[idx, 'name'] = model.__class__.__name__\n",
        "    imb_df.loc[idx, 'param'] = str(model.get_params())\n",
        "    imb_df.loc[idx, 'time'] = round(toc - tic, 4)\n",
        "    imb_df.loc[idx, 'ratio'] = round((y_resampled==1).sum() / y_resampled.shape[0], 4)\n",
        "    imb_df.loc[idx, 'size'] = y_resampled.shape[0]\n",
        "\n",
        "imb_df.insert(loc=0, column='sampling', value=['over'] * 5 + ['under'] * 7 + ['combine'] * 2)"
      ],
      "metadata": {
        "colab": {
          "base_uri": "https://localhost:8080/"
        },
        "id": "h07llhle4xKc",
        "outputId": "881961e1-a854-4a2d-8890-0841d6f7a1b4"
      },
      "execution_count": null,
      "outputs": [
        {
          "output_type": "stream",
          "name": "stdout",
          "text": [
            "0: RandomOverSampler() do...\n",
            "1: SMOTE() do...\n",
            "2: ADASYN() do...\n",
            "3: BorderlineSMOTE() do...\n",
            "4: SVMSMOTE() do...\n",
            "5: RandomUnderSampler() do...\n",
            "6: NearMiss() do...\n",
            "7: EditedNearestNeighbours() do...\n",
            "8: OneSidedSelection() do...\n",
            "9: NeighbourhoodCleaningRule() do...\n",
            "10: InstanceHardnessThreshold() do...\n",
            "11: TomekLinks() do...\n",
            "12: SMOTEENN() do...\n",
            "13: SMOTETomek() do...\n"
          ]
        }
      ]
    },
    {
      "cell_type": "code",
      "source": [
        "dtype_dict = {\n",
        "    'sampling': 'category',\n",
        "    'name': 'object',\n",
        "    'param': 'object',\n",
        "    'time': 'float',\n",
        "    'ratio': 'float',\n",
        "    'size': 'int',\n",
        "}\n",
        "imb_df = imb_df.astype(dtype_dict)"
      ],
      "metadata": {
        "id": "1e8OTchP5meh"
      },
      "execution_count": null,
      "outputs": []
    },
    {
      "cell_type": "code",
      "source": [
        "import matplotlib.pyplot as plt\n",
        "import seaborn as sns"
      ],
      "metadata": {
        "id": "VAbnMMhx9jA-"
      },
      "execution_count": null,
      "outputs": []
    },
    {
      "cell_type": "code",
      "source": [
        "(sns\n",
        " .barplot(data=imb_df.sort_values('time', ascending=False), x='name', y='time', hue='sampling', dodge=False)\n",
        " .set(xlabel='')\n",
        ")\n",
        "plt.xticks(rotation=90)\n",
        "plt.show()"
      ],
      "metadata": {
        "colab": {
          "base_uri": "https://localhost:8080/",
          "height": 398
        },
        "id": "40ZjDqrR94SM",
        "outputId": "5c5ef482-92b0-4d19-8a21-2dc9923cc2a0"
      },
      "execution_count": null,
      "outputs": [
        {
          "output_type": "display_data",
          "data": {
            "text/plain": [
              "<Figure size 432x288 with 1 Axes>"
            ],
            "image/png": "[encoded data removed]"
          },
          "metadata": {
            "needs_background": "light"
          }
        }
      ]
    },
    {
      "cell_type": "markdown",
      "source": [
        "# __Compare model step by step__"
      ],
      "metadata": {
        "id": "FXnVgciyCV2K"
      }
    },
    {
      "cell_type": "code",
      "source": [
        "from sklearn import model_selection, dummy\n",
        "\n",
        "dummy_clf = dummy.DummyClassifier(strategy='most_frequent')\n",
        "scoring = ['accuracy', 'balanced_accuracy']\n",
        "cv_result = model_selection.cross_validate(dummy_clf, X, y, scoring=scoring)"
      ],
      "metadata": {
        "id": "_b89dP-ACkvZ"
      },
      "execution_count": null,
      "outputs": []
    },
    {
      "cell_type": "code",
      "source": [
        "index = []\n",
        "scores = {'Accuracy': [], 'Balanced accuracy': []}"
      ],
      "metadata": {
        "id": "ydfZHHqi975M"
      },
      "execution_count": null,
      "outputs": []
    },
    {
      "cell_type": "code",
      "source": [
        "index += ['Dummy classifier']\n",
        "cv_result = model_selection.cross_validate(dummy_clf, X, y, scoring=scoring)\n",
        "scores['Accuracy'].append(cv_result['test_accuracy'].mean())\n",
        "scores['Balanced accuracy'].append(cv_result['test_balanced_accuracy'].mean())\n",
        "\n",
        "df_scores = pd.DataFrame(scores, index=index)\n",
        "df_scores"
      ],
      "metadata": {
        "colab": {
          "base_uri": "https://localhost:8080/",
          "height": 81
        },
        "id": "NhY5U5YoDOje",
        "outputId": "2b8d1b67-cee4-4dca-c981-b2c2a34f47ad"
      },
      "execution_count": null,
      "outputs": [
        {
          "output_type": "execute_result",
          "data": {
            "text/plain": [
              "                  Accuracy  Balanced accuracy\n",
              "Dummy classifier  0.914651                0.5"
            ],
            "text/html": [
              "\n",
              "  <div id=\"df-128244da-b347-4886-82c4-50905b77c9aa\">\n",
              "    <div class=\"colab-df-container\">\n",
              "      <div>\n",
              "<style scoped>\n",
              "    .dataframe tbody tr th:only-of-type {\n",
              "        vertical-align: middle;\n",
              "    }\n",
              "\n",
              "    .dataframe tbody tr th {\n",
              "        vertical-align: top;\n",
              "    }\n",
              "\n",
              "    .dataframe thead th {\n",
              "        text-align: right;\n",
              "    }\n",
              "</style>\n",
              "<table border=\"1\" class=\"dataframe\">\n",
              "  <thead>\n",
              "    <tr style=\"text-align: right;\">\n",
              "      <th></th>\n",
              "      <th>Accuracy</th>\n",
              "      <th>Balanced accuracy</th>\n",
              "    </tr>\n",
              "  </thead>\n",
              "  <tbody>\n",
              "    <tr>\n",
              "      <th>Dummy classifier</th>\n",
              "      <td>0.914651</td>\n",
              "      <td>0.5</td>\n",
              "    </tr>\n",
              "  </tbody>\n",
              "</table>\n",
              "</div>\n",
              "      <button class=\"colab-df-convert\" onclick=\"convertToInteractive('df-128244da-b347-4886-82c4-50905b77c9aa')\"\n",
              "              title=\"Convert this dataframe to an interactive table.\"\n",
              "              style=\"display:none;\">\n",
              "        \n",
              "  <svg xmlns=\"http://www.w3.org/2000/svg\" height=\"24px\"viewBox=\"0 0 24 24\"\n",
              "       width=\"24px\">\n",
              "    <path d=\"M0 0h24v24H0V0z\" fill=\"none\"/>\n",
              "    <path d=\"M18.56 5.44l.94 2.06.94-2.06 2.06-.94-2.06-.94-.94-2.06-.94 2.06-2.06.94zm-11 1L8.5 8.5l.94-2.06 2.06-.94-2.06-.94L8.5 2.5l-.94 2.06-2.06.94zm10 10l.94 2.06.94-2.06 2.06-.94-2.06-.94-.94-2.06-.94 2.06-2.06.94z\"/><path d=\"M17.41 7.96l-1.37-1.37c-.4-.4-.92-.59-1.43-.59-.52 0-1.04.2-1.43.59L10.3 9.45l-7.72 7.72c-.78.78-.78 2.05 0 2.83L4 21.41c.39.39.9.59 1.41.59.51 0 1.02-.2 1.41-.59l7.78-7.78 2.81-2.81c.8-.78.8-2.07 0-2.86zM5.41 20L4 18.59l7.72-7.72 1.47 1.35L5.41 20z\"/>\n",
              "  </svg>\n",
              "      </button>\n",
              "      \n",
              "  <style>\n",
              "    .colab-df-container {\n",
              "      display:flex;\n",
              "      flex-wrap:wrap;\n",
              "      gap: 12px;\n",
              "    }\n",
              "\n",
              "    .colab-df-convert {\n",
              "      background-color: #E8F0FE;\n",
              "      border: none;\n",
              "      border-radius: 50%;\n",
              "      cursor: pointer;\n",
              "      display: none;\n",
              "      fill: #1967D2;\n",
              "      height: 32px;\n",
              "      padding: 0 0 0 0;\n",
              "      width: 32px;\n",
              "    }\n",
              "\n",
              "    .colab-df-convert:hover {\n",
              "      background-color: #E2EBFA;\n",
              "      box-shadow: 0px 1px 2px rgba(60, 64, 67, 0.3), 0px 1px 3px 1px rgba(60, 64, 67, 0.15);\n",
              "      fill: #174EA6;\n",
              "    }\n",
              "\n",
              "    [theme=dark] .colab-df-convert {\n",
              "      background-color: #3B4455;\n",
              "      fill: #D2E3FC;\n",
              "    }\n",
              "\n",
              "    [theme=dark] .colab-df-convert:hover {\n",
              "      background-color: #434B5C;\n",
              "      box-shadow: 0px 1px 3px 1px rgba(0, 0, 0, 0.15);\n",
              "      filter: drop-shadow(0px 1px 2px rgba(0, 0, 0, 0.3));\n",
              "      fill: #FFFFFF;\n",
              "    }\n",
              "  </style>\n",
              "\n",
              "      <script>\n",
              "        const buttonEl =\n",
              "          document.querySelector('#df-128244da-b347-4886-82c4-50905b77c9aa button.colab-df-convert');\n",
              "        buttonEl.style.display =\n",
              "          google.colab.kernel.accessAllowed ? 'block' : 'none';\n",
              "\n",
              "        async function convertToInteractive(key) {\n",
              "          const element = document.querySelector('#df-128244da-b347-4886-82c4-50905b77c9aa');\n",
              "          const dataTable =\n",
              "            await google.colab.kernel.invokeFunction('convertToInteractive',\n",
              "                                                     [key], {});\n",
              "          if (!dataTable) return;\n",
              "\n",
              "          const docLinkHtml = 'Like what you see? Visit the ' +\n",
              "            '<a target=\"_blank\" href=https://colab.research.google.com/notebooks/data_table.ipynb>data table notebook</a>'\n",
              "            + ' to learn more about interactive tables.';\n",
              "          element.innerHTML = '';\n",
              "          dataTable['output_type'] = 'display_data';\n",
              "          await google.colab.output.renderOutput(dataTable, element);\n",
              "          const docLink = document.createElement('div');\n",
              "          docLink.innerHTML = docLinkHtml;\n",
              "          element.appendChild(docLink);\n",
              "        }\n",
              "      </script>\n",
              "    </div>\n",
              "  </div>\n",
              "  "
            ]
          },
          "metadata": {},
          "execution_count": 177
        }
      ]
    },
    {
      "cell_type": "code",
      "source": [
        "from sklearn import preprocessing, pipeline, impute, compose\n",
        "\n",
        "cont_pipe = pipeline.make_pipeline(\n",
        "    preprocessing.StandardScaler(), impute.SimpleImputer(strategy='mean', add_indicator=True)\n",
        ")\n",
        "cate_pipe = pipeline.make_pipeline(\n",
        "    impute.SimpleImputer(strategy='constant', fill_value='missing'),\n",
        "    preprocessing.OneHotEncoder(handle_unknown='ignore')\n",
        ")\n",
        "preprocessor_linear = compose.make_column_transformer(\n",
        "    (cont_pipe, compose.make_column_selector(dtype_include='number')),\n",
        "    (cate_pipe, compose.make_column_selector(dtype_include='category')),\n",
        "    n_jobs=2\n",
        ")\n",
        "lr_clf = pipeline.make_pipeline(preprocessor_linear, linear_model.LogisticRegression(max_iter=1000))\n",
        "\n",
        "index += ['Logistic regression']\n",
        "cv_result = model_selection.cross_validate(lr_clf, X, y, scoring=scoring)\n",
        "scores['Accuracy'].append(cv_result['test_accuracy'].mean())\n",
        "scores['Balanced accuracy'].append(cv_result['test_balanced_accuracy'].mean())\n",
        "df_scores = pd.DataFrame(scores, index=index)"
      ],
      "metadata": {
        "id": "MnyKZvuEDwhN"
      },
      "execution_count": null,
      "outputs": []
    },
    {
      "cell_type": "code",
      "source": [
        "lr_clf.set_params(logisticregression__class_weight='balanced')\n",
        "\n",
        "index += ['Logistic resgression with balanced class weights']\n",
        "cv_result = model_selection.cross_validate(lr_clf, X, y, scoring=scoring)\n",
        "scores['Accuracy'].append(cv_result['test_accuracy'].mean())\n",
        "scores['Balanced accuracy'].append(cv_result['test_balanced_accuracy'].mean())\n",
        "df_scores = pd.DataFrame(scores, index=index)\n",
        "df_scores"
      ],
      "metadata": {
        "colab": {
          "base_uri": "https://localhost:8080/",
          "height": 143
        },
        "id": "S7ZwIyl3FlWM",
        "outputId": "b895fbe4-8d43-420b-dba2-7a6aecdb8cf9"
      },
      "execution_count": null,
      "outputs": [
        {
          "output_type": "execute_result",
          "data": {
            "text/plain": [
              "                                                  Accuracy  Balanced accuracy\n",
              "Dummy classifier                                  0.914651           0.500000\n",
              "Logistic regression                               0.953033           0.735399\n",
              "Logistic resgression with balanced class weights  0.908691           0.770702"
            ],
            "text/html": [
              "\n",
              "  <div id=\"df-9cea43a1-a060-46b7-aeb6-709643eeaaa7\">\n",
              "    <div class=\"colab-df-container\">\n",
              "      <div>\n",
              "<style scoped>\n",
              "    .dataframe tbody tr th:only-of-type {\n",
              "        vertical-align: middle;\n",
              "    }\n",
              "\n",
              "    .dataframe tbody tr th {\n",
              "        vertical-align: top;\n",
              "    }\n",
              "\n",
              "    .dataframe thead th {\n",
              "        text-align: right;\n",
              "    }\n",
              "</style>\n",
              "<table border=\"1\" class=\"dataframe\">\n",
              "  <thead>\n",
              "    <tr style=\"text-align: right;\">\n",
              "      <th></th>\n",
              "      <th>Accuracy</th>\n",
              "      <th>Balanced accuracy</th>\n",
              "    </tr>\n",
              "  </thead>\n",
              "  <tbody>\n",
              "    <tr>\n",
              "      <th>Dummy classifier</th>\n",
              "      <td>0.914651</td>\n",
              "      <td>0.500000</td>\n",
              "    </tr>\n",
              "    <tr>\n",
              "      <th>Logistic regression</th>\n",
              "      <td>0.953033</td>\n",
              "      <td>0.735399</td>\n",
              "    </tr>\n",
              "    <tr>\n",
              "      <th>Logistic resgression with balanced class weights</th>\n",
              "      <td>0.908691</td>\n",
              "      <td>0.770702</td>\n",
              "    </tr>\n",
              "  </tbody>\n",
              "</table>\n",
              "</div>\n",
              "      <button class=\"colab-df-convert\" onclick=\"convertToInteractive('df-9cea43a1-a060-46b7-aeb6-709643eeaaa7')\"\n",
              "              title=\"Convert this dataframe to an interactive table.\"\n",
              "              style=\"display:none;\">\n",
              "        \n",
              "  <svg xmlns=\"http://www.w3.org/2000/svg\" height=\"24px\"viewBox=\"0 0 24 24\"\n",
              "       width=\"24px\">\n",
              "    <path d=\"M0 0h24v24H0V0z\" fill=\"none\"/>\n",
              "    <path d=\"M18.56 5.44l.94 2.06.94-2.06 2.06-.94-2.06-.94-.94-2.06-.94 2.06-2.06.94zm-11 1L8.5 8.5l.94-2.06 2.06-.94-2.06-.94L8.5 2.5l-.94 2.06-2.06.94zm10 10l.94 2.06.94-2.06 2.06-.94-2.06-.94-.94-2.06-.94 2.06-2.06.94z\"/><path d=\"M17.41 7.96l-1.37-1.37c-.4-.4-.92-.59-1.43-.59-.52 0-1.04.2-1.43.59L10.3 9.45l-7.72 7.72c-.78.78-.78 2.05 0 2.83L4 21.41c.39.39.9.59 1.41.59.51 0 1.02-.2 1.41-.59l7.78-7.78 2.81-2.81c.8-.78.8-2.07 0-2.86zM5.41 20L4 18.59l7.72-7.72 1.47 1.35L5.41 20z\"/>\n",
              "  </svg>\n",
              "      </button>\n",
              "      \n",
              "  <style>\n",
              "    .colab-df-container {\n",
              "      display:flex;\n",
              "      flex-wrap:wrap;\n",
              "      gap: 12px;\n",
              "    }\n",
              "\n",
              "    .colab-df-convert {\n",
              "      background-color: #E8F0FE;\n",
              "      border: none;\n",
              "      border-radius: 50%;\n",
              "      cursor: pointer;\n",
              "      display: none;\n",
              "      fill: #1967D2;\n",
              "      height: 32px;\n",
              "      padding: 0 0 0 0;\n",
              "      width: 32px;\n",
              "    }\n",
              "\n",
              "    .colab-df-convert:hover {\n",
              "      background-color: #E2EBFA;\n",
              "      box-shadow: 0px 1px 2px rgba(60, 64, 67, 0.3), 0px 1px 3px 1px rgba(60, 64, 67, 0.15);\n",
              "      fill: #174EA6;\n",
              "    }\n",
              "\n",
              "    [theme=dark] .colab-df-convert {\n",
              "      background-color: #3B4455;\n",
              "      fill: #D2E3FC;\n",
              "    }\n",
              "\n",
              "    [theme=dark] .colab-df-convert:hover {\n",
              "      background-color: #434B5C;\n",
              "      box-shadow: 0px 1px 3px 1px rgba(0, 0, 0, 0.15);\n",
              "      filter: drop-shadow(0px 1px 2px rgba(0, 0, 0, 0.3));\n",
              "      fill: #FFFFFF;\n",
              "    }\n",
              "  </style>\n",
              "\n",
              "      <script>\n",
              "        const buttonEl =\n",
              "          document.querySelector('#df-9cea43a1-a060-46b7-aeb6-709643eeaaa7 button.colab-df-convert');\n",
              "        buttonEl.style.display =\n",
              "          google.colab.kernel.accessAllowed ? 'block' : 'none';\n",
              "\n",
              "        async function convertToInteractive(key) {\n",
              "          const element = document.querySelector('#df-9cea43a1-a060-46b7-aeb6-709643eeaaa7');\n",
              "          const dataTable =\n",
              "            await google.colab.kernel.invokeFunction('convertToInteractive',\n",
              "                                                     [key], {});\n",
              "          if (!dataTable) return;\n",
              "\n",
              "          const docLinkHtml = 'Like what you see? Visit the ' +\n",
              "            '<a target=\"_blank\" href=https://colab.research.google.com/notebooks/data_table.ipynb>data table notebook</a>'\n",
              "            + ' to learn more about interactive tables.';\n",
              "          element.innerHTML = '';\n",
              "          dataTable['output_type'] = 'display_data';\n",
              "          await google.colab.output.renderOutput(dataTable, element);\n",
              "          const docLink = document.createElement('div');\n",
              "          docLink.innerHTML = docLinkHtml;\n",
              "          element.appendChild(docLink);\n",
              "        }\n",
              "      </script>\n",
              "    </div>\n",
              "  </div>\n",
              "  "
            ]
          },
          "metadata": {},
          "execution_count": 179
        }
      ]
    },
    {
      "cell_type": "code",
      "source": [
        "from imblearn.pipeline import make_pipeline\n",
        "\n",
        "lr_clf = make_pipeline(\n",
        "    preprocessor_linear,\n",
        "    imblearn.combine.SMOTETomek(),\n",
        "    linear_model.LogisticRegression(max_iter=1000),\n",
        ")\n",
        "\n",
        "index += ['SMOTETomek sampling + Logistic regression']\n",
        "cv_result = model_selection.cross_validate(lr_clf, X, y, scoring=scoring)\n",
        "scores['Accuracy'].append(cv_result['test_accuracy'].mean())\n",
        "scores['Balanced accuracy'].append(cv_result['test_balanced_accuracy'].mean())\n",
        "df_scores = pd.DataFrame(scores, index=index)"
      ],
      "metadata": {
        "id": "Pd3GIJv_GW7L"
      },
      "execution_count": null,
      "outputs": []
    },
    {
      "cell_type": "code",
      "source": [
        "df_scores"
      ],
      "metadata": {
        "colab": {
          "base_uri": "https://localhost:8080/",
          "height": 175
        },
        "id": "OAyoofBUHfOw",
        "outputId": "867f8c67-c121-487e-a419-73bd87c0c8f1"
      },
      "execution_count": null,
      "outputs": [
        {
          "output_type": "execute_result",
          "data": {
            "text/plain": [
              "                                                  Accuracy  Balanced accuracy\n",
              "Dummy classifier                                  0.914651           0.500000\n",
              "Logistic regression                               0.953033           0.735399\n",
              "Logistic resgression with balanced class weights  0.908691           0.770702\n",
              "SMOTETomek sampling + Logistic regression         0.908053           0.773362"
            ],
            "text/html": [
              "\n",
              "  <div id=\"df-46edb367-d6bd-4c72-bfef-137d7e58972c\">\n",
              "    <div class=\"colab-df-container\">\n",
              "      <div>\n",
              "<style scoped>\n",
              "    .dataframe tbody tr th:only-of-type {\n",
              "        vertical-align: middle;\n",
              "    }\n",
              "\n",
              "    .dataframe tbody tr th {\n",
              "        vertical-align: top;\n",
              "    }\n",
              "\n",
              "    .dataframe thead th {\n",
              "        text-align: right;\n",
              "    }\n",
              "</style>\n",
              "<table border=\"1\" class=\"dataframe\">\n",
              "  <thead>\n",
              "    <tr style=\"text-align: right;\">\n",
              "      <th></th>\n",
              "      <th>Accuracy</th>\n",
              "      <th>Balanced accuracy</th>\n",
              "    </tr>\n",
              "  </thead>\n",
              "  <tbody>\n",
              "    <tr>\n",
              "      <th>Dummy classifier</th>\n",
              "      <td>0.914651</td>\n",
              "      <td>0.500000</td>\n",
              "    </tr>\n",
              "    <tr>\n",
              "      <th>Logistic regression</th>\n",
              "      <td>0.953033</td>\n",
              "      <td>0.735399</td>\n",
              "    </tr>\n",
              "    <tr>\n",
              "      <th>Logistic resgression with balanced class weights</th>\n",
              "      <td>0.908691</td>\n",
              "      <td>0.770702</td>\n",
              "    </tr>\n",
              "    <tr>\n",
              "      <th>SMOTETomek sampling + Logistic regression</th>\n",
              "      <td>0.908053</td>\n",
              "      <td>0.773362</td>\n",
              "    </tr>\n",
              "  </tbody>\n",
              "</table>\n",
              "</div>\n",
              "      <button class=\"colab-df-convert\" onclick=\"convertToInteractive('df-46edb367-d6bd-4c72-bfef-137d7e58972c')\"\n",
              "              title=\"Convert this dataframe to an interactive table.\"\n",
              "              style=\"display:none;\">\n",
              "        \n",
              "  <svg xmlns=\"http://www.w3.org/2000/svg\" height=\"24px\"viewBox=\"0 0 24 24\"\n",
              "       width=\"24px\">\n",
              "    <path d=\"M0 0h24v24H0V0z\" fill=\"none\"/>\n",
              "    <path d=\"M18.56 5.44l.94 2.06.94-2.06 2.06-.94-2.06-.94-.94-2.06-.94 2.06-2.06.94zm-11 1L8.5 8.5l.94-2.06 2.06-.94-2.06-.94L8.5 2.5l-.94 2.06-2.06.94zm10 10l.94 2.06.94-2.06 2.06-.94-2.06-.94-.94-2.06-.94 2.06-2.06.94z\"/><path d=\"M17.41 7.96l-1.37-1.37c-.4-.4-.92-.59-1.43-.59-.52 0-1.04.2-1.43.59L10.3 9.45l-7.72 7.72c-.78.78-.78 2.05 0 2.83L4 21.41c.39.39.9.59 1.41.59.51 0 1.02-.2 1.41-.59l7.78-7.78 2.81-2.81c.8-.78.8-2.07 0-2.86zM5.41 20L4 18.59l7.72-7.72 1.47 1.35L5.41 20z\"/>\n",
              "  </svg>\n",
              "      </button>\n",
              "      \n",
              "  <style>\n",
              "    .colab-df-container {\n",
              "      display:flex;\n",
              "      flex-wrap:wrap;\n",
              "      gap: 12px;\n",
              "    }\n",
              "\n",
              "    .colab-df-convert {\n",
              "      background-color: #E8F0FE;\n",
              "      border: none;\n",
              "      border-radius: 50%;\n",
              "      cursor: pointer;\n",
              "      display: none;\n",
              "      fill: #1967D2;\n",
              "      height: 32px;\n",
              "      padding: 0 0 0 0;\n",
              "      width: 32px;\n",
              "    }\n",
              "\n",
              "    .colab-df-convert:hover {\n",
              "      background-color: #E2EBFA;\n",
              "      box-shadow: 0px 1px 2px rgba(60, 64, 67, 0.3), 0px 1px 3px 1px rgba(60, 64, 67, 0.15);\n",
              "      fill: #174EA6;\n",
              "    }\n",
              "\n",
              "    [theme=dark] .colab-df-convert {\n",
              "      background-color: #3B4455;\n",
              "      fill: #D2E3FC;\n",
              "    }\n",
              "\n",
              "    [theme=dark] .colab-df-convert:hover {\n",
              "      background-color: #434B5C;\n",
              "      box-shadow: 0px 1px 3px 1px rgba(0, 0, 0, 0.15);\n",
              "      filter: drop-shadow(0px 1px 2px rgba(0, 0, 0, 0.3));\n",
              "      fill: #FFFFFF;\n",
              "    }\n",
              "  </style>\n",
              "\n",
              "      <script>\n",
              "        const buttonEl =\n",
              "          document.querySelector('#df-46edb367-d6bd-4c72-bfef-137d7e58972c button.colab-df-convert');\n",
              "        buttonEl.style.display =\n",
              "          google.colab.kernel.accessAllowed ? 'block' : 'none';\n",
              "\n",
              "        async function convertToInteractive(key) {\n",
              "          const element = document.querySelector('#df-46edb367-d6bd-4c72-bfef-137d7e58972c');\n",
              "          const dataTable =\n",
              "            await google.colab.kernel.invokeFunction('convertToInteractive',\n",
              "                                                     [key], {});\n",
              "          if (!dataTable) return;\n",
              "\n",
              "          const docLinkHtml = 'Like what you see? Visit the ' +\n",
              "            '<a target=\"_blank\" href=https://colab.research.google.com/notebooks/data_table.ipynb>data table notebook</a>'\n",
              "            + ' to learn more about interactive tables.';\n",
              "          element.innerHTML = '';\n",
              "          dataTable['output_type'] = 'display_data';\n",
              "          await google.colab.output.renderOutput(dataTable, element);\n",
              "          const docLink = document.createElement('div');\n",
              "          docLink.innerHTML = docLinkHtml;\n",
              "          element.appendChild(docLink);\n",
              "        }\n",
              "      </script>\n",
              "    </div>\n",
              "  </div>\n",
              "  "
            ]
          },
          "metadata": {},
          "execution_count": 188
        }
      ]
    }
  ]
}